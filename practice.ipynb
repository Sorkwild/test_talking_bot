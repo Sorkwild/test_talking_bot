{
 "cells": [
  {
   "cell_type": "code",
   "execution_count": 2,
   "metadata": {},
   "outputs": [
    {
     "data": {
      "text/html": [
       "<div>\n",
       "<style scoped>\n",
       "    .dataframe tbody tr th:only-of-type {\n",
       "        vertical-align: middle;\n",
       "    }\n",
       "\n",
       "    .dataframe tbody tr th {\n",
       "        vertical-align: top;\n",
       "    }\n",
       "\n",
       "    .dataframe thead th {\n",
       "        text-align: right;\n",
       "    }\n",
       "</style>\n",
       "<table border=\"1\" class=\"dataframe\">\n",
       "  <thead>\n",
       "    <tr style=\"text-align: right;\">\n",
       "      <th></th>\n",
       "      <th>context_2</th>\n",
       "      <th>context_1</th>\n",
       "      <th>context_0</th>\n",
       "      <th>reply</th>\n",
       "      <th>label</th>\n",
       "    </tr>\n",
       "  </thead>\n",
       "  <tbody>\n",
       "    <tr>\n",
       "      <th>32219</th>\n",
       "      <td>эй . не трогай его !</td>\n",
       "      <td>разве ты не достаточно натворил ?</td>\n",
       "      <td>я серьезно . . . прочь с моей земли .</td>\n",
       "      <td>и я тоже . больше никаких глупостей .</td>\n",
       "      <td>good</td>\n",
       "    </tr>\n",
       "    <tr>\n",
       "      <th>25205</th>\n",
       "      <td>NaN</td>\n",
       "      <td>косима !</td>\n",
       "      <td>привет .</td>\n",
       "      <td>как дела , дружище ?</td>\n",
       "      <td>good</td>\n",
       "    </tr>\n",
       "    <tr>\n",
       "      <th>38601</th>\n",
       "      <td>нужно приготовить завтрак .</td>\n",
       "      <td>а это еще от куда ?</td>\n",
       "      <td>джонатан , сегодня ночью мне снились невероятн...</td>\n",
       "      <td>это был не сон .</td>\n",
       "      <td>good</td>\n",
       "    </tr>\n",
       "  </tbody>\n",
       "</table>\n",
       "</div>"
      ],
      "text/plain": [
       "                         context_2                          context_1  \\\n",
       "32219         эй . не трогай его !  разве ты не достаточно натворил ?   \n",
       "25205                          NaN                           косима !   \n",
       "38601  нужно приготовить завтрак .                а это еще от куда ?   \n",
       "\n",
       "                                               context_0  \\\n",
       "32219              я серьезно . . . прочь с моей земли .   \n",
       "25205                                           привет .   \n",
       "38601  джонатан , сегодня ночью мне снились невероятн...   \n",
       "\n",
       "                                       reply label  \n",
       "32219  и я тоже . больше никаких глупостей .  good  \n",
       "25205                   как дела , дружище ?  good  \n",
       "38601                       это был не сон .  good  "
      ]
     },
     "execution_count": 2,
     "metadata": {},
     "output_type": "execute_result"
    }
   ],
   "source": [
    "import pandas as pd\n",
    "good = pd.read_csv('data/good.tsv', sep='\\t')"
   ]
  },
  {
   "cell_type": "code",
   "execution_count": 5,
   "metadata": {},
   "outputs": [
    {
     "data": {
      "text/plain": [
       "(60049, 14123)"
      ]
     },
     "execution_count": 5,
     "metadata": {},
     "output_type": "execute_result"
    }
   ],
   "source": [
    "from sklearn.feature_extraction.text import TfidfVectorizer\n",
    "vectorizer = TfidfVectorizer()\n",
    "vectorizer.fit(good.context_0)\n",
    "matrix_big = vectorizer.transform(good.context_0)\n"
   ]
  },
  {
   "cell_type": "code",
   "execution_count": 6,
   "metadata": {},
   "outputs": [
    {
     "data": {
      "text/plain": [
       "(60049, 300)"
      ]
     },
     "execution_count": 6,
     "metadata": {},
     "output_type": "execute_result"
    }
   ],
   "source": [
    "from sklearn.decomposition import TruncatedSVD\n",
    "svd = TruncatedSVD(n_components=300)\n",
    "svd.fit(matrix_big)\n",
    "matrix_small = svd.transform(matrix_big)\n"
   ]
  },
  {
   "cell_type": "code",
   "execution_count": 7,
   "metadata": {},
   "outputs": [],
   "source": [
    "import numpy as np\n",
    "from sklearn.neighbors import BallTree\n",
    "from sklearn.base import BaseEstimator\n",
    "\n",
    "def softmax(x):\n",
    "    probe = np.exp(x)\n",
    "    return probe/sum(probe)\n",
    "\n",
    "class NeighbourSampler(BaseEstimator):\n",
    "    def __init__(self, k=5, temperature = 1.0):\n",
    "        self.k = k\n",
    "        self.temperature = temperature\n",
    "    def fit(self, x, y):\n",
    "        self.tree_ = BallTree(x)\n",
    "        self.y_ = np.array(y)\n",
    "    def predict(self, x, random_state=None):\n",
    "        distances, indices = self.tree_.query(x, return_distance = True, k=self.k)\n",
    "        result = []\n",
    "        for distance, index in zip(distances, indices):\n",
    "            result.append(np.random.choice(index, p = softmax(distance * self.temperature)))\n",
    "            return self.y_[result]"
   ]
  },
  {
   "cell_type": "code",
   "execution_count": 10,
   "metadata": {},
   "outputs": [
    {
     "data": {
      "text/plain": [
       "array(['отличный выбор .'], dtype=object)"
      ]
     },
     "execution_count": 10,
     "metadata": {},
     "output_type": "execute_result"
    }
   ],
   "source": [
    "from sklearn.pipeline import make_pipeline\n",
    "ns = NeighbourSampler()\n",
    "ns.fit(matrix_small, good.reply)\n",
    "pipe = make_pipeline(vectorizer, svd, ns)"
   ]
  },
  {
   "cell_type": "code",
   "execution_count": 16,
   "metadata": {},
   "outputs": [],
   "source": [
    "import telebot\n",
    "TOKEN = ''\n",
    "bot = telebot.TeleBot(TOKEN)\n",
    "@bot.message_handler(commands=['start', 'help'])\n",
    "def say_hi(message):\n",
    "    bot.reply_to(message, \"Hi! How's that goin'?\")\n",
    "@bot.message_handler(func=lambda message: True)\n",
    "def echo_all(message):\n",
    "    bot.reply_to(message, pipe.predict([message.text.lower()])[0])\n",
    "bot.polling()"
   ]
  }
 ],
 "metadata": {
  "kernelspec": {
   "display_name": "Python 3.9.7 64-bit",
   "language": "python",
   "name": "python3"
  },
  "language_info": {
   "codemirror_mode": {
    "name": "ipython",
    "version": 3
   },
   "file_extension": ".py",
   "mimetype": "text/x-python",
   "name": "python",
   "nbconvert_exporter": "python",
   "pygments_lexer": "ipython3",
   "version": "3.9.7"
  },
  "orig_nbformat": 4,
  "vscode": {
   "interpreter": {
    "hash": "e77e67092b78210dc1d194fa44dc28add182a422c35c9d6db1b008835d4b98bf"
   }
  }
 },
 "nbformat": 4,
 "nbformat_minor": 2
}
